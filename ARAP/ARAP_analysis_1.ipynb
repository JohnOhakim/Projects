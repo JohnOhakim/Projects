{
 "cells": [
  {
   "cell_type": "code",
   "execution_count": 1,
   "metadata": {},
   "outputs": [],
   "source": [
    "import pandas as pd\n",
    "import numpy as np\n",
    "\n",
    "import scipy.stats as stats \n",
    "from scipy.stats import mannwhitneyu, wilcoxon, kruskal, shapiro\n",
    "\n",
    "import ArapFunctions\n",
    "from ArapFunctions import flag_alt_products, get_alt_product_count, show_substitutes, show_internal_external,\\\n",
    "query_table, viz_data, filter_by_asin, non_parametric_test\n",
    "\n",
    "import warnings\n",
    "warnings.filterwarnings('ignore')"
   ]
  },
  {
   "cell_type": "markdown",
   "metadata": {},
   "source": [
    "### Alternate Purchase Behavior"
   ]
  },
  {
   "cell_type": "code",
   "execution_count": null,
   "metadata": {},
   "outputs": [],
   "source": [
    "## query alternate purchase wkly table in bq\n",
    "sql_query = \"\"\"\n",
    "SELECT\n",
    "  start_date,\n",
    "  asin,\n",
    "  product_title,\n",
    "  n1_purchased_asin,\n",
    "  n1_purchased_product_title,\n",
    "  n1_purchased_percent,\n",
    "  n2_purchased_asin,\n",
    "  n2_purchased_product_title,\n",
    "  n2_purchased_percent,\n",
    "  n3_purchased_asin,\n",
    "  n3_purchased_product_title,\n",
    "  n3_purchased_percent\n",
    "FROM \n",
    "  `cp-gaa-visualization-dev.arap.alternate_purchase_wly` \n",
    "WHERE \n",
    "  country = 'USA'\n",
    "\"\"\"\n",
    "\n",
    "alt_purchase = query_table(sql_query)"
   ]
  },
  {
   "cell_type": "markdown",
   "metadata": {},
   "source": [
    "#### How many unique products are in this table? "
   ]
  },
  {
   "cell_type": "code",
   "execution_count": null,
   "metadata": {},
   "outputs": [],
   "source": [
    "prod_catalog = alt_purchase['product_title'].unique().tolist()\n",
    "print(f'There are {len(prod_catalog)} unique prodcuts')"
   ]
  },
  {
   "cell_type": "markdown",
   "metadata": {},
   "source": [
    "#### Filtering for only toothpaste subcategory"
   ]
  },
  {
   "cell_type": "code",
   "execution_count": null,
   "metadata": {},
   "outputs": [],
   "source": [
    "alt_purchase_toothpaste = alt_purchase[alt_purchase['product_title'].str.contains('Toothpaste')]"
   ]
  },
  {
   "cell_type": "code",
   "execution_count": null,
   "metadata": {},
   "outputs": [],
   "source": [
    "print(f\"There are {len(alt_purchase_toothpaste['product_title'].unique().tolist())} unique Toothpaste products\")"
   ]
  },
  {
   "cell_type": "code",
   "execution_count": null,
   "metadata": {},
   "outputs": [],
   "source": [
    "toothpaste_catalog = alt_purchase_toothpaste['product_title'].unique().tolist()"
   ]
  },
  {
   "cell_type": "code",
   "execution_count": null,
   "metadata": {},
   "outputs": [],
   "source": [
    "# Output from flag_alt_products for n1, n2, and n3 columns\n",
    "alt_purchase_1 = flag_alt_products(alt_purchase_toothpaste, prod_catalog)\n",
    "alt_purchase_2 = flag_alt_products(alt_purchase_toothpaste, prod_catalog, column='n2_purchased_product_title')\n",
    "alt_purchase_3 = flag_alt_products(alt_purchase_toothpaste, prod_catalog, column='n3_purchased_product_title')"
   ]
  },
  {
   "cell_type": "markdown",
   "metadata": {},
   "source": [
    "#### Each the time a Colgate product in the toothpaste category is viewed, shoppers switched to  an alternate (External) product approximatley 50% of time (April 2018 - February 2020)\n",
    "\n",
    "- #### The questions that immediately emerge are: \n",
    "    - #### What did they switch to? \n",
    "    - #### Did they switch to substitutes?\n",
    "    - #### If so, by how much?\n",
    "    \n",
    "\n",
    "See the figure below"
   ]
  },
  {
   "cell_type": "code",
   "execution_count": null,
   "metadata": {},
   "outputs": [],
   "source": [
    "show_internal_external(alt_purchase_1.n1_internal)"
   ]
  },
  {
   "cell_type": "markdown",
   "metadata": {},
   "source": [
    "#### The switch into substitutes occurs only 5% of the time.\n",
    "\n",
    "- #### The larger share of the switch is into colagte products and other non-related products\n",
    "- #### The question that emgerges is:\n",
    "    - #### What is the share of product "
   ]
  },
  {
   "cell_type": "code",
   "execution_count": null,
   "metadata": {},
   "outputs": [],
   "source": [
    "show_substitutes(alt_purchase_1.n1_substitute)"
   ]
  },
  {
   "cell_type": "code",
   "execution_count": null,
   "metadata": {},
   "outputs": [],
   "source": [
    "alt_purchase_mask_1 = alt_purchase_2.loc[:, ['product_title', 'n2_purchased_product_title', 'n2_internal', 'n2_substitute']]\n",
    "alt_purchase_mask_2 = alt_purchase_3.loc[:, ['product_title', 'n3_purchased_product_title', 'n3_internal', 'n3_substitute']]\n",
    "\n",
    "alt_purchase_merge_2 = pd.merge(alt_purchase_1, alt_purchase_mask_1, on='product_title', right_index=True, left_index=True)\n",
    "alt_purchase_merge_3 = pd.merge(alt_purchase_merge_2, alt_purchase_mask_2, on='product_title', right_index=True, left_index=True)\n"
   ]
  },
  {
   "cell_type": "code",
   "execution_count": null,
   "metadata": {},
   "outputs": [],
   "source": [
    "alt_purchase_merge_3.head(3)"
   ]
  },
  {
   "cell_type": "markdown",
   "metadata": {},
   "source": [
    "<img src=\"./pipe.jpg\" alt=\"drawing\" width=\"600\"/>\n",
    "\n",
    "\n",
    "  ### BigQuery => Notebook => BigQuery => Report on Data Studio \n",
    "\n",
    "[ARAP Alternate Purchase Behavior Dashboard](https://datastudio.google.com/u/0/reporting/1qhCsNx2dfy9EtKtiUYHBzwgInbeP1WIx/page/4rAHB)"
   ]
  },
  {
   "cell_type": "markdown",
   "metadata": {},
   "source": [
    "### Data Transformations"
   ]
  },
  {
   "cell_type": "code",
   "execution_count": null,
   "metadata": {},
   "outputs": [],
   "source": [
    "## query sales diag wkly table in bq\n",
    "sql_query = \"\"\"\n",
    "SELECT\n",
    "  start_date,\n",
    "  asin,\n",
    "  ordered_revenue, \n",
    "  ordered_units, \n",
    "  ordered_revenue_perc_of_total,\n",
    "  average_sales_price,\n",
    "  average_sales_price_prior_period,\n",
    "  lbb_price,\n",
    "  category,\n",
    "  subcategory,\n",
    "  product_title,\n",
    "  company\n",
    "    \n",
    "FROM \n",
    "  `cp-gaa-visualization-dev.arap.sales_diagnostic_detail_wly`\n",
    " \n",
    "WHERE \n",
    "  asin IN ('B07961C65H', 'B01BNEWDFQ', 'B079FV6PRH') \n",
    "\"\"\"\n",
    "\n",
    "sales_wly = query_table(sql_query)"
   ]
  },
  {
   "cell_type": "code",
   "execution_count": null,
   "metadata": {},
   "outputs": [],
   "source": [
    "sales_wly['ordered_revenue'] = sales_wly['ordered_revenue'].astype(float)\n",
    "sales_wly['average_sales_price'] = sales_wly['average_sales_price'].astype(float)\n",
    "sales_wly['lbb_price'] = sales_wly['lbb_price'].astype(float)\n",
    "\n",
    "sales = filter_by_asin(sales_wly)\n",
    "\n",
    "sales_flt = sales.loc[:, ['lbb_price', 'ordered_revenue', 'average_sales_price']]\n",
    "sales_flt = sales_flt[(sales_flt['lbb_price'] != 0) & (sales_flt['ordered_revenue'] != 0)]"
   ]
  },
  {
   "cell_type": "code",
   "execution_count": null,
   "metadata": {},
   "outputs": [],
   "source": [
    "viz_data(sales_flt)"
   ]
  },
  {
   "cell_type": "code",
   "execution_count": null,
   "metadata": {},
   "outputs": [],
   "source": [
    "viz_data(sales_flt, line=False, scatter_reg=True)"
   ]
  },
  {
   "cell_type": "markdown",
   "metadata": {},
   "source": [
    "### Hypothesis Testing"
   ]
  },
  {
   "cell_type": "code",
   "execution_count": 81,
   "metadata": {},
   "outputs": [
    {
     "name": "stderr",
     "output_type": "stream",
     "text": [
      "Downloading: 100%|██████████| 3950/3950 [00:00<00:00, 5609.28rows/s]\n"
     ]
    }
   ],
   "source": [
    "## query demographics age wkly table in bq\n",
    "sql_query = \"\"\"\n",
    "SELECT \n",
    "  start_date,\n",
    "  age,\n",
    "  ordered_revenue,\n",
    "  ordered_units,\n",
    "  unique_customers\n",
    "FROM \n",
    "  `cp-gaa-visualization-dev.arap.demographics_age_asin_detail_wly` \n",
    "  \n",
    "-- WHERE company = 'COLGATE'\n",
    "\n",
    "\"\"\"\n",
    "df_dem_age = query_table(sql_query)"
   ]
  },
  {
   "cell_type": "code",
   "execution_count": null,
   "metadata": {},
   "outputs": [],
   "source": [
    "age_18_24 = df_dem_age.loc[df_dem_age['age'] == '18-24', 'ordered_revenue']\n",
    "age_25_34 = df_dem_age.loc[df_dem_age['age'] == '25-34', 'ordered_revenue']\n",
    "age_35_44 = df_dem_age.loc[df_dem_age['age'] == '35-44', 'ordered_revenue']"
   ]
  },
  {
   "cell_type": "code",
   "execution_count": null,
   "metadata": {},
   "outputs": [],
   "source": [
    "age_18_24.hist();"
   ]
  },
  {
   "cell_type": "code",
   "execution_count": null,
   "metadata": {},
   "outputs": [],
   "source": [
    "age_25_34.hist();"
   ]
  },
  {
   "cell_type": "code",
   "execution_count": null,
   "metadata": {},
   "outputs": [],
   "source": [
    "age_35_44.hist();"
   ]
  },
  {
   "cell_type": "code",
   "execution_count": null,
   "metadata": {},
   "outputs": [],
   "source": [
    "stat, p = shapiro(age_18_24)\n",
    "print(f'Statistics={stat}, p={p}')\n",
    "\n",
    "alpha = 0.05\n",
    "if p > alpha:\n",
    "    print('Sample looks Gaussian (fail to reject H0)')\n",
    "else:\n",
    "    print('Sample does not look Gaussian (reject H0)')"
   ]
  },
  {
   "cell_type": "code",
   "execution_count": null,
   "metadata": {},
   "outputs": [],
   "source": [
    "non_parametric_test(age_18_24, age_25_34, age_35_44, anova_test=False, h_test=True)"
   ]
  },
  {
   "cell_type": "code",
   "execution_count": null,
   "metadata": {},
   "outputs": [],
   "source": [
    "def query_table(sql_query):\n",
    "    \"\"\"\n",
    "    \n",
    "    \"\"\"\n",
    "    \n",
    "    return pandas_gbq.read_gbq(sql_query, project_id=project_id)"
   ]
  },
  {
   "cell_type": "code",
   "execution_count": 2,
   "metadata": {},
   "outputs": [
    {
     "name": "stderr",
     "output_type": "stream",
     "text": [
      "Downloading: 100%|██████████| 29020/29020 [00:04<00:00, 5819.77rows/s]\n"
     ]
    }
   ],
   "source": [
    "## query alternate purchase wkly table in bq\n",
    "sql_query = \"\"\"\n",
    "SELECT\n",
    "  start_date,\n",
    "  asin,\n",
    "  product_title,\n",
    "  n1_purchased_asin,\n",
    "  n1_purchased_product_title,\n",
    "  n1_purchased_percent,\n",
    "  n2_purchased_asin,\n",
    "  n2_purchased_product_title,\n",
    "  n2_purchased_percent,\n",
    "  n3_purchased_asin,\n",
    "  n3_purchased_product_title,\n",
    "  n3_purchased_percent\n",
    "FROM \n",
    "  `cp-gaa-visualization-dev.arap.alternate_purchase_wly` \n",
    "WHERE \n",
    "  country = 'USA' and company LIKE '%HILLS'\n",
    "\"\"\"\n",
    "\n",
    "hills_alt_purchase_qry = query_table(sql_query)"
   ]
  },
  {
   "cell_type": "code",
   "execution_count": 3,
   "metadata": {},
   "outputs": [
    {
     "name": "stdout",
     "output_type": "stream",
     "text": [
      "There are 706 unique prodcuts\n"
     ]
    }
   ],
   "source": [
    "prod_catalog = hills_alt_purchase_qry['product_title'].unique().tolist()\n",
    "print(f'There are {len(prod_catalog)} unique prodcuts')"
   ]
  },
  {
   "cell_type": "code",
   "execution_count": 4,
   "metadata": {},
   "outputs": [],
   "source": [
    "hills_alt_purchase = hills_alt_purchase_qry[hills_alt_purchase_qry['product_title'].str.contains(\"Hill's\")]"
   ]
  },
  {
   "cell_type": "code",
   "execution_count": 5,
   "metadata": {},
   "outputs": [],
   "source": [
    "hills_catalog = hills_alt_purchase['product_title'].unique().tolist()"
   ]
  },
  {
   "cell_type": "code",
   "execution_count": null,
   "metadata": {},
   "outputs": [],
   "source": [
    "len(hills_catalog)"
   ]
  },
  {
   "cell_type": "code",
   "execution_count": null,
   "metadata": {},
   "outputs": [],
   "source": [
    "alt_catalog = hills_alt_purchase['n1_purchased_product_title'].unique().tolist()"
   ]
  },
  {
   "cell_type": "code",
   "execution_count": null,
   "metadata": {},
   "outputs": [],
   "source": [
    "len(alt_catalog)"
   ]
  },
  {
   "cell_type": "code",
   "execution_count": null,
   "metadata": {},
   "outputs": [],
   "source": [
    "list1 = [10, 15, 20, 25, 30, 35, 40]\n",
    "list2 = [25, 40, 35] "
   ]
  },
  {
   "cell_type": "code",
   "execution_count": null,
   "metadata": {},
   "outputs": [],
   "source": [
    "set(list1) - set(list2)"
   ]
  },
  {
   "cell_type": "code",
   "execution_count": null,
   "metadata": {},
   "outputs": [],
   "source": [
    "def Diff(li1, li2): \n",
    "    return (set(li1) - set(li2)) "
   ]
  },
  {
   "cell_type": "code",
   "execution_count": null,
   "metadata": {},
   "outputs": [],
   "source": [
    "len(Diff(hills_catalog, alt_catalog))"
   ]
  },
  {
   "cell_type": "code",
   "execution_count": null,
   "metadata": {},
   "outputs": [],
   "source": [
    "len(hills_catalog)"
   ]
  },
  {
   "cell_type": "code",
   "execution_count": null,
   "metadata": {},
   "outputs": [],
   "source": [
    "## Add to the prod_catalog list\n",
    "for i in alt_catalog:\n",
    "    if (\"Hill's\" in i) and (i not in hills_catalog):\n",
    "        hills_catalog.append(i)\n",
    "print(f'There are now {len(hills_catalog)} unique prodcuts')"
   ]
  },
  {
   "cell_type": "code",
   "execution_count": null,
   "metadata": {},
   "outputs": [],
   "source": [
    "pet_keywords = ['Dog', 'Cat', 'Wet', 'Dry', 'Kitten', 'Treats']"
   ]
  },
  {
   "cell_type": "code",
   "execution_count": null,
   "metadata": {},
   "outputs": [],
   "source": [
    "#hills_catalog"
   ]
  },
  {
   "cell_type": "code",
   "execution_count": null,
   "metadata": {},
   "outputs": [],
   "source": [
    "\"(Dog Food)|(Cat Food)|(Dog Treats)|(Cat Treats)|(Wet Dog Food)|(Wet Cat Food)|(Dry Dog Food)|(Dry Cat Food)|(Dry Dog Treats)|(Dry Cat Treats)|(Wet Dog Treats)|(Wet Cat Treats)\""
   ]
  },
  {
   "cell_type": "code",
   "execution_count": null,
   "metadata": {},
   "outputs": [],
   "source": [
    "not_hills_catalog = []\n",
    "for i in hills_alt_purchase['n1_purchased_product_title'].tolist():\n",
    "    if (i.lower() not in hills_catalog) and (\"hill's\" not in i.lower()):\n",
    "        not_hills_catalog.append(i)"
   ]
  },
  {
   "cell_type": "code",
   "execution_count": 7,
   "metadata": {},
   "outputs": [],
   "source": [
    "import re"
   ]
  },
  {
   "cell_type": "code",
   "execution_count": 5,
   "metadata": {},
   "outputs": [],
   "source": [
    "for i in test_list2:\n",
    "    try:\n",
    "        if \"Hill's\" in i[0]:\n",
    "            print(i[0])\n",
    "        else:\n",
    "            pass\n",
    "    except IndexError:\n",
    "        continue\n",
    "    \n",
    "    "
   ]
  },
  {
   "cell_type": "code",
   "execution_count": 55,
   "metadata": {},
   "outputs": [
    {
     "name": "stdout",
     "output_type": "stream",
     "text": [
      "[] no\n",
      "[] no\n",
      "[('', '', '', '', '', '', '', '', '', '', '', '', '', 'Chews')] yes\n",
      "[('', '', '', '', '', '', '', '', '', '', '', '', '', 'Chews'), ('', '', '', 'Dog Treats', '', '', '', '', '', '', '', '', '', '')] yes\n",
      "[] no\n",
      "[] no\n",
      "[(\"Hill's\", '', '', '', '', '', '', '', '', '', '', '', '', ''), ('', '', '', '', '', '', '', 'Dry Dog Food', '', '', '', '', '', '')] No\n",
      "[(\"Hill's\", '', '', '', '', '', '', '', '', '', '', '', '', ''), ('', '', '', '', '', '', '', 'Dry Dog Food', '', '', '', '', '', '')] No\n",
      "[(\"Hill's\", '', '', '', '', '', '', '', '', '', '', '', '', ''), ('', '', '', 'Dog Treats', '', '', '', '', '', '', '', '', '', '')] No\n",
      "[(\"Hill's\", '', '', '', '', '', '', '', '', '', '', '', '', ''), ('', '', '', '', '', '', '', 'Dry Dog Food', '', '', '', '', '', '')] No\n",
      "[(\"Hill's\", '', '', '', '', '', '', '', '', '', '', '', '', ''), ('', '', '', '', '', '', 'Wet Cat Food', '', '', '', '', '', '', '')] No\n",
      "[(\"Hill's\", '', '', '', '', '', '', '', '', '', '', '', '', ''), ('', '', '', '', '', 'Wet Dog Food', '', '', '', '', '', '', '', '')] No\n",
      "[(\"Hill's\", '', '', '', '', '', '', '', '', '', '', '', '', ''), ('', '', '', '', '', '', '', 'Dry Dog Food', '', '', '', '', '', '')] No\n",
      "[(\"Hill's\", '', '', '', '', '', '', '', '', '', '', '', '', ''), ('', '', '', '', '', '', '', 'Dry Dog Food', '', '', '', '', '', '')] No\n",
      "[(\"Hill's\", '', '', '', '', '', '', '', '', '', '', '', '', ''), ('', '', '', '', '', '', '', '', 'Dry Cat Food', '', '', '', '', '')] No\n",
      "[(\"Hill's\", '', '', '', '', '', '', '', '', '', '', '', '', ''), ('', '', '', '', '', '', 'Wet Cat Food', '', '', '', '', '', '', '')] No\n",
      "[(\"Hill's\", '', '', '', '', '', '', '', '', '', '', '', '', ''), ('', '', '', '', '', '', '', 'Dry Dog Food', '', '', '', '', '', '')] No\n",
      "[(\"Hill's\", '', '', '', '', '', '', '', '', '', '', '', '', ''), ('', '', '', '', '', '', '', 'Dry Dog Food', '', '', '', '', '', '')] No\n",
      "[(\"Hill's\", '', '', '', '', '', '', '', '', '', '', '', '', ''), ('', '', '', '', '', 'Wet Dog Food', '', '', '', '', '', '', '', '')] No\n",
      "[(\"Hill's\", '', '', '', '', '', '', '', '', '', '', '', '', ''), ('', '', '', '', '', 'Wet Dog Food', '', '', '', '', '', '', '', '')] No\n"
     ]
    }
   ],
   "source": [
    "for i in test_list2[140:160]:\n",
    "    if i == []:\n",
    "        print(i, 'no')\n",
    "    elif \"Hill's\" in i[0]:\n",
    "        print(i, 'No')\n",
    "    else:\n",
    "        print(i, 'yes')"
   ]
  },
  {
   "cell_type": "code",
   "execution_count": 40,
   "metadata": {},
   "outputs": [
    {
     "name": "stdout",
     "output_type": "stream",
     "text": [
      "No\n",
      "No\n",
      "Yes\n",
      "Yes\n",
      "No\n",
      "No\n",
      "Yes\n",
      "Yes\n",
      "Yes\n",
      "Yes\n",
      "Yes\n",
      "Yes\n",
      "Yes\n",
      "Yes\n",
      "Yes\n",
      "Yes\n",
      "Yes\n",
      "Yes\n",
      "Yes\n",
      "Yes\n"
     ]
    }
   ],
   "source": [
    "for i in test_list2[140:160]:\n",
    "    if i == []:\n",
    "        print('No')\n",
    "    elif \"Hill's\" not in i[0] or \"Hill's\" not in i[1]:\n",
    "        print('Yes')"
   ]
  },
  {
   "cell_type": "code",
   "execution_count": 72,
   "metadata": {},
   "outputs": [
    {
     "name": "stdout",
     "output_type": "stream",
     "text": [
      "21927\n",
      "21927\n"
     ]
    }
   ],
   "source": [
    "test_list2 = []\n",
    "title = hills_alt_purchase['product_title'].tolist()\n",
    "title_lower = [i.lower() for i in title]\n",
    "n1_title = hills_alt_purchase['n1_purchased_product_title'].tolist()\n",
    "n1_title_lower = [i.lower() for i in n1_title]\n",
    "for i in n1_title_lower:\n",
    "    x = re.findall(\"(hill's)|(dog food)|(cat food)|(dog treats)|(cat treats)|(wet dog food)|(wet cat food)|(dry dog food)|(dry cat food)|(dry dog treats)|(dry cat treats)|(wet dog treats)|(wet cat treats)|(chews)\", i)\n",
    "    test_list2.append(x)\n",
    "\n",
    "print(len(test_list2))\n",
    "print(len(hills_alt_purchase['n1_purchased_product_title'].tolist()))\n",
    "\n",
    "subs = []\n",
    "not_subs = []\n",
    "\n",
    "\n",
    "for i in test_list2:\n",
    "    if i == []:\n",
    "        #print(i, 'no')\n",
    "        subs.append('no')\n",
    "    elif \"hill's\".lower() in i[0]:\n",
    "        #print(i, 'No')\n",
    "        subs.append('no')\n",
    "    else:\n",
    "        #print(i, 'yes')\n",
    "        subs.append('yes')\n",
    "        \n",
    "df = pd.DataFrame({'col1': title,\n",
    "              'col2': n1_title,\n",
    "             'col3': test_list2,\n",
    "            'sub': subs})"
   ]
  },
  {
   "cell_type": "code",
   "execution_count": 73,
   "metadata": {},
   "outputs": [
    {
     "data": {
      "text/html": [
       "<div>\n",
       "<style scoped>\n",
       "    .dataframe tbody tr th:only-of-type {\n",
       "        vertical-align: middle;\n",
       "    }\n",
       "\n",
       "    .dataframe tbody tr th {\n",
       "        vertical-align: top;\n",
       "    }\n",
       "\n",
       "    .dataframe thead th {\n",
       "        text-align: right;\n",
       "    }\n",
       "</style>\n",
       "<table border=\"1\" class=\"dataframe\">\n",
       "  <thead>\n",
       "    <tr style=\"text-align: right;\">\n",
       "      <th></th>\n",
       "      <th>col1</th>\n",
       "      <th>col2</th>\n",
       "      <th>col3</th>\n",
       "      <th>sub</th>\n",
       "    </tr>\n",
       "  </thead>\n",
       "  <tbody>\n",
       "    <tr>\n",
       "      <th>115</th>\n",
       "      <td>Grain Free Dry Cat Food by Hill's Science Diet...</td>\n",
       "      <td>Grain Free Dry Cat Food by Hill's Science Diet...</td>\n",
       "      <td>[(, , , , , , , , dry cat food, , , , , ), (hi...</td>\n",
       "      <td>yes</td>\n",
       "    </tr>\n",
       "    <tr>\n",
       "      <th>134</th>\n",
       "      <td>Hill's Science Diet Dry Cat Food Adult Indoor ...</td>\n",
       "      <td>Weruva Cats in the Kitchen Pantry Party Pouch ...</td>\n",
       "      <td>[(, , cat food, , , , , , , , , , , )]</td>\n",
       "      <td>yes</td>\n",
       "    </tr>\n",
       "    <tr>\n",
       "      <th>142</th>\n",
       "      <td>Hill's Science Diet Dry Dog Food Adult 6+ Larg...</td>\n",
       "      <td>SmartBones Mini Chicken Chews (24 Pack)</td>\n",
       "      <td>[(, , , , , , , , , , , , , chews)]</td>\n",
       "      <td>yes</td>\n",
       "    </tr>\n",
       "    <tr>\n",
       "      <th>143</th>\n",
       "      <td>Hill's Science Diet Dry Dog Food Adult Light f...</td>\n",
       "      <td>GREENIES Regular Natural Dog Dental Care Chews...</td>\n",
       "      <td>[(, , , , , , , , , , , , , chews), (, , , dog...</td>\n",
       "      <td>yes</td>\n",
       "    </tr>\n",
       "    <tr>\n",
       "      <th>209</th>\n",
       "      <td>Hill's Pet Nutrition Metabolic Weight Manageme...</td>\n",
       "      <td>VetriScience Laboratories Composure Calming Su...</td>\n",
       "      <td>[(, , , , , , , , , , , , , chews), (, , , , ,...</td>\n",
       "      <td>yes</td>\n",
       "    </tr>\n",
       "    <tr>\n",
       "      <th>...</th>\n",
       "      <td>...</td>\n",
       "      <td>...</td>\n",
       "      <td>...</td>\n",
       "      <td>...</td>\n",
       "    </tr>\n",
       "    <tr>\n",
       "      <th>10740</th>\n",
       "      <td>Hill's Science Diet Dry Dog Food Adult Large B...</td>\n",
       "      <td>Blue Buffalo Wilderness Trail Treats Wild Bits...</td>\n",
       "      <td>[(, , , dog treats, , , , , , , , , , )]</td>\n",
       "      <td>yes</td>\n",
       "    </tr>\n",
       "    <tr>\n",
       "      <th>10747</th>\n",
       "      <td>Hill's Pet Nutrition K/d Kidney Care Vegetable...</td>\n",
       "      <td>VetriScience Laboratories Renal Essentials Kid...</td>\n",
       "      <td>[(, , , , , , , , , , , , , chews)]</td>\n",
       "      <td>yes</td>\n",
       "    </tr>\n",
       "    <tr>\n",
       "      <th>10820</th>\n",
       "      <td>Hill's Prescription Diet z/d Canine Ultra Alle...</td>\n",
       "      <td>Wellness Simple Natural Grain Free Dry Limited...</td>\n",
       "      <td>[(, dog food, , , , , , , , , , , , )]</td>\n",
       "      <td>yes</td>\n",
       "    </tr>\n",
       "    <tr>\n",
       "      <th>10848</th>\n",
       "      <td>Hill's Science Diet Dry Dog Food Adult Light C...</td>\n",
       "      <td>Nature's Recipe Chicken Rice &amp; Barley Recipe W...</td>\n",
       "      <td>[(, , , , , wet dog food, , , , , , , , )]</td>\n",
       "      <td>yes</td>\n",
       "    </tr>\n",
       "    <tr>\n",
       "      <th>11031</th>\n",
       "      <td>Hill's Science Diet Wet Cat Food Adult 11+ for...</td>\n",
       "      <td>Royal Canin Aging 12+ Senior Thin Slices in Gr...</td>\n",
       "      <td>[(, , cat food, , , , , , , , , , , )]</td>\n",
       "      <td>yes</td>\n",
       "    </tr>\n",
       "  </tbody>\n",
       "</table>\n",
       "<p>255 rows × 4 columns</p>\n",
       "</div>"
      ],
      "text/plain": [
       "                                                    col1  \\\n",
       "115    Grain Free Dry Cat Food by Hill's Science Diet...   \n",
       "134    Hill's Science Diet Dry Cat Food Adult Indoor ...   \n",
       "142    Hill's Science Diet Dry Dog Food Adult 6+ Larg...   \n",
       "143    Hill's Science Diet Dry Dog Food Adult Light f...   \n",
       "209    Hill's Pet Nutrition Metabolic Weight Manageme...   \n",
       "...                                                  ...   \n",
       "10740  Hill's Science Diet Dry Dog Food Adult Large B...   \n",
       "10747  Hill's Pet Nutrition K/d Kidney Care Vegetable...   \n",
       "10820  Hill's Prescription Diet z/d Canine Ultra Alle...   \n",
       "10848  Hill's Science Diet Dry Dog Food Adult Light C...   \n",
       "11031  Hill's Science Diet Wet Cat Food Adult 11+ for...   \n",
       "\n",
       "                                                    col2  \\\n",
       "115    Grain Free Dry Cat Food by Hill's Science Diet...   \n",
       "134    Weruva Cats in the Kitchen Pantry Party Pouch ...   \n",
       "142              SmartBones Mini Chicken Chews (24 Pack)   \n",
       "143    GREENIES Regular Natural Dog Dental Care Chews...   \n",
       "209    VetriScience Laboratories Composure Calming Su...   \n",
       "...                                                  ...   \n",
       "10740  Blue Buffalo Wilderness Trail Treats Wild Bits...   \n",
       "10747  VetriScience Laboratories Renal Essentials Kid...   \n",
       "10820  Wellness Simple Natural Grain Free Dry Limited...   \n",
       "10848  Nature's Recipe Chicken Rice & Barley Recipe W...   \n",
       "11031  Royal Canin Aging 12+ Senior Thin Slices in Gr...   \n",
       "\n",
       "                                                    col3  sub  \n",
       "115    [(, , , , , , , , dry cat food, , , , , ), (hi...  yes  \n",
       "134               [(, , cat food, , , , , , , , , , , )]  yes  \n",
       "142                  [(, , , , , , , , , , , , , chews)]  yes  \n",
       "143    [(, , , , , , , , , , , , , chews), (, , , dog...  yes  \n",
       "209    [(, , , , , , , , , , , , , chews), (, , , , ,...  yes  \n",
       "...                                                  ...  ...  \n",
       "10740           [(, , , dog treats, , , , , , , , , , )]  yes  \n",
       "10747                [(, , , , , , , , , , , , , chews)]  yes  \n",
       "10820             [(, dog food, , , , , , , , , , , , )]  yes  \n",
       "10848         [(, , , , , wet dog food, , , , , , , , )]  yes  \n",
       "11031             [(, , cat food, , , , , , , , , , , )]  yes  \n",
       "\n",
       "[255 rows x 4 columns]"
      ]
     },
     "execution_count": 73,
     "metadata": {},
     "output_type": "execute_result"
    }
   ],
   "source": [
    "df[df['sub'] == 'yes']"
   ]
  },
  {
   "cell_type": "code",
   "execution_count": null,
   "metadata": {},
   "outputs": [],
   "source": [
    "limit = 1000000000\n",
    "jupyter --NotebookApp.iopub_data_rate_limit=1.0e10"
   ]
  },
  {
   "cell_type": "code",
   "execution_count": null,
   "metadata": {},
   "outputs": [],
   "source": [
    "print(len(subs))\n",
    "print(test_list2)\n",
    "print(title)"
   ]
  },
  {
   "cell_type": "code",
   "execution_count": null,
   "metadata": {},
   "outputs": [],
   "source": [
    "y = []\n",
    "for i in substitute_list:\n",
    "    if i == 'yes':\n",
    "        y.append(i)\n",
    "print(len(y))\n",
    "len(substitute_list)"
   ]
  },
  {
   "cell_type": "code",
   "execution_count": null,
   "metadata": {},
   "outputs": [],
   "source": [
    "len(hills_alt_purchase['n1_purchased_product_title'].tolist())"
   ]
  },
  {
   "cell_type": "code",
   "execution_count": 74,
   "metadata": {},
   "outputs": [],
   "source": [
    "def flag_alt_products(data, prod_catalog, column='n1_purchased_product_title'):\n",
    "    hills_catalog = data['product_title'].unique().tolist()\n",
    "    asin_list = data['asin'].tolist()\n",
    "    prod_list = data['product_title'].tolist()\n",
    "    date_list = data['start_date'].tolist()\n",
    "    alt_purchase_list = data[column].tolist()\n",
    "    alt_catalog = data[column].unique().tolist()\n",
    "    prefix = column.split('_')[0]\n",
    "    hills_keywords = ['Dog', 'Cat', 'Wet', 'Dry', 'Kitten', 'Treats']\n",
    "    \n",
    "    internal_list = []\n",
    "    external_list = []\n",
    "    substitute_list = []\n",
    "    sub_external_list = []\n",
    "    Yes = 'yes'\n",
    "    No = 'no'\n",
    "           \n",
    "    \n",
    "    \n",
    "    alt_purchase_list_lower = [i.lower() for i in alt_purchase_list]\n",
    "    \n",
    "    for i in alt_purchase_list_lower:\n",
    "        x = re.findall(\"(hill's)|(dog food)|(cat food)|(dog treats)|(cat treats)|(wet dog food)|(wet cat food)|(dry dog food)|(dry cat food)|(dry dog treats)|(dry cat treats)|(wet dog treats)|(wet cat treats)|(chews)\", i)\n",
    "        sub_external_list.append(x)\n",
    "\n",
    "    for i in alt_purchase_list:\n",
    "        # Competitors:\n",
    "            # Case 1\n",
    "        if i in prod_catalog:\n",
    "            a1 = Yes\n",
    "            internal_list.append(a1)\n",
    "            # Case 2\n",
    "        else:\n",
    "            a2 = No\n",
    "            internal_list.append(a2)\n",
    "\n",
    "        # Substitutes:\n",
    "            # Case 2       \n",
    "    for i in sub_external_list:\n",
    "        if i == []:\n",
    "            b1 = No\n",
    "            substitute_list.append(b1)\n",
    "        elif \"hill's\".lower() in i[0]:\n",
    "            b2 = No\n",
    "            substitute_list.append(b2)\n",
    "        else:\n",
    "            b3 = Yes\n",
    "            substitute_list.append(Yes)\n",
    "\n",
    "    return pd.DataFrame({'start_date': date_list, \n",
    "                  'asin': asin_list,\n",
    "                  'product_title': prod_list, \n",
    "                  f'{column}': alt_purchase_list,\n",
    "                  f'{prefix}_internal': internal_list, \n",
    "                  f'{prefix}_substitute': substitute_list}) "
   ]
  },
  {
   "cell_type": "code",
   "execution_count": 76,
   "metadata": {},
   "outputs": [],
   "source": [
    "hills_alt_product_1 = flag_alt_products(hills_alt_purchase, prod_catalog)"
   ]
  },
  {
   "cell_type": "code",
   "execution_count": 78,
   "metadata": {},
   "outputs": [
    {
     "name": "stdout",
     "output_type": "stream",
     "text": [
      "yes    94.978793\n",
      "no      5.021207\n",
      "Name: n1_internal, dtype: float64\n"
     ]
    },
    {
     "data": {
      "image/png": "[encoded data removed]",
      "text/plain": [
       "<Figure size 720x432 with 1 Axes>"
      ]
     },
     "metadata": {
      "needs_background": "light"
     },
     "output_type": "display_data"
    }
   ],
   "source": [
    "show_internal_external(hills_alt_product_1.n1_internal)"
   ]
  },
  {
   "cell_type": "markdown",
   "metadata": {},
   "source": []
  },
  {
   "cell_type": "code",
   "execution_count": 79,
   "metadata": {},
   "outputs": [
    {
     "name": "stdout",
     "output_type": "stream",
     "text": [
      "no     98.83705\n",
      "yes     1.16295\n",
      "Name: n1_substitute, dtype: float64\n"
     ]
    },
    {
     "data": {
      "image/png": "[encoded data removed]",
      "text/plain": [
       "<Figure size 720x432 with 1 Axes>"
      ]
     },
     "metadata": {
      "needs_background": "light"
     },
     "output_type": "display_data"
    }
   ],
   "source": [
    "show_substitutes(hills_alt_product_1.n1_substitute)"
   ]
  },
  {
   "cell_type": "code",
   "execution_count": null,
   "metadata": {},
   "outputs": [],
   "source": []
  }
 ],
 "metadata": {
  "kernelspec": {
   "display_name": "Python 3",
   "language": "python",
   "name": "python3"
  },
  "language_info": {
   "codemirror_mode": {
    "name": "ipython",
    "version": 3
   },
   "file_extension": ".py",
   "mimetype": "text/x-python",
   "name": "python",
   "nbconvert_exporter": "python",
   "pygments_lexer": "ipython3",
   "version": "3.7.4"
  }
 },
 "nbformat": 4,
 "nbformat_minor": 4
}
