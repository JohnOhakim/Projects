{
 "cells": [
  {
   "cell_type": "code",
   "execution_count": 1,
   "metadata": {},
   "outputs": [],
   "source": [
    "import pandas as pd\n",
    "import numpy as np\n",
    "import matplotlib.pyplot as plt\n",
    "import seaborn as sns\n",
    "import pandas_gbq\n",
    "\n",
    "import warnings\n",
    "warnings.filterwarnings('ignore')"
   ]
  },
  {
   "cell_type": "code",
   "execution_count": 2,
   "metadata": {},
   "outputs": [],
   "source": [
    "#import arap_helpers\n",
    "from arap_helpers import QueryTable, AlternateProducts, get_prod_catalog, get_subcategory \n",
    "\n",
    "project_id = \"cp-gaa-visualization-dev\""
   ]
  },
  {
   "cell_type": "code",
   "execution_count": 3,
   "metadata": {},
   "outputs": [],
   "source": [
    "sql_query = \"\"\"\n",
    "SELECT\n",
    "  start_date,\n",
    "  asin,\n",
    "  product_title,\n",
    "  n1_purchased_asin,\n",
    "  n1_purchased_product_title,\n",
    "  n1_purchased_percent,\n",
    "  n2_purchased_asin,\n",
    "  n2_purchased_product_title,\n",
    "  n2_purchased_percent,\n",
    "  n3_purchased_asin,\n",
    "  n3_purchased_product_title,\n",
    "  n3_purchased_percent\n",
    "FROM \n",
    "  `cp-gaa-visualization-dev.arap.alternate_purchase_wly` \n",
    "WHERE \n",
    "  country = 'USA'\n",
    "\"\"\""
   ]
  },
  {
   "cell_type": "code",
   "execution_count": 4,
   "metadata": {},
   "outputs": [],
   "source": [
    "qry = QueryTable(sql_query)"
   ]
  },
  {
   "cell_type": "code",
   "execution_count": 5,
   "metadata": {},
   "outputs": [
    {
     "name": "stderr",
     "output_type": "stream",
     "text": [
      "Downloading: 100%|██████████| 122817/122817 [00:19<00:00, 6191.63rows/s]\n"
     ]
    }
   ],
   "source": [
    "alt_purchase = qry.query_table()"
   ]
  },
  {
   "cell_type": "markdown",
   "metadata": {},
   "source": [
    "### Alternate Products: Toothpaste"
   ]
  },
  {
   "cell_type": "code",
   "execution_count": 6,
   "metadata": {},
   "outputs": [
    {
     "name": "stdout",
     "output_type": "stream",
     "text": [
      "There are 2644 unique products\n"
     ]
    }
   ],
   "source": [
    "prod_catalog = get_prod_catalog(alt_purchase)\n",
    "alt_purchase_toothpaste = get_subcategory(alt_purchase)"
   ]
  },
  {
   "cell_type": "code",
   "execution_count": 8,
   "metadata": {},
   "outputs": [],
   "source": [
    "alt = AlternateProducts(alt_purchase_toothpaste, prod_catalog, 'n1_purchased_product_title', brand='Colgate', keyword='Toothpaste')"
   ]
  },
  {
   "cell_type": "code",
   "execution_count": 11,
   "metadata": {},
   "outputs": [],
   "source": [
    "alt_purchase_1 = alt.flag_alt_products()"
   ]
  },
  {
   "cell_type": "code",
   "execution_count": 12,
   "metadata": {},
   "outputs": [],
   "source": [
    "alt = AlternateProducts(alt_purchase_toothpaste, prod_catalog, 'n2_purchased_product_title', brand='Colgate', keyword='Toothpaste')"
   ]
  },
  {
   "cell_type": "code",
   "execution_count": 13,
   "metadata": {},
   "outputs": [],
   "source": [
    "alt_purchase_2 = alt.flag_alt_products()\n",
    "#alt_purchase_2.head()"
   ]
  },
  {
   "cell_type": "code",
   "execution_count": 14,
   "metadata": {},
   "outputs": [],
   "source": [
    "alt = AlternateProducts(alt_purchase_toothpaste, prod_catalog, 'n3_purchased_product_title', brand='Colgate', keyword='Toothpaste')\n",
    "alt_purchase_3 = alt.flag_alt_products()"
   ]
  },
  {
   "cell_type": "code",
   "execution_count": 15,
   "metadata": {},
   "outputs": [],
   "source": [
    "alt_purchase_merged = alt.merge_table(alt_purchase_1, alt_purchase_2, alt_purchase_3)"
   ]
  },
  {
   "cell_type": "code",
   "execution_count": 16,
   "metadata": {},
   "outputs": [
    {
     "data": {
      "text/html": [
       "<div>\n",
       "<style scoped>\n",
       "    .dataframe tbody tr th:only-of-type {\n",
       "        vertical-align: middle;\n",
       "    }\n",
       "\n",
       "    .dataframe tbody tr th {\n",
       "        vertical-align: top;\n",
       "    }\n",
       "\n",
       "    .dataframe thead th {\n",
       "        text-align: right;\n",
       "    }\n",
       "</style>\n",
       "<table border=\"1\" class=\"dataframe\">\n",
       "  <thead>\n",
       "    <tr style=\"text-align: right;\">\n",
       "      <th></th>\n",
       "      <th>start_date</th>\n",
       "      <th>asin</th>\n",
       "      <th>product_title</th>\n",
       "      <th>n1_purchased_product_title</th>\n",
       "      <th>n1_internal</th>\n",
       "      <th>n1_substitute</th>\n",
       "      <th>n2_purchased_product_title</th>\n",
       "      <th>n2_internal</th>\n",
       "      <th>n2_substitute</th>\n",
       "      <th>n3_purchased_product_title</th>\n",
       "      <th>n3_internal</th>\n",
       "      <th>n3_substitute</th>\n",
       "    </tr>\n",
       "  </thead>\n",
       "  <tbody>\n",
       "    <tr>\n",
       "      <th>0</th>\n",
       "      <td>2019-12-08</td>\n",
       "      <td>B01BNEYGQU</td>\n",
       "      <td>Colgate Kids Toothpaste Pump Maximum Cavity Pr...</td>\n",
       "      <td>Disney Plus Yearly with 7 Day FT</td>\n",
       "      <td>no</td>\n",
       "      <td>no</td>\n",
       "      <td>Pokémon XY Evolutions Bundle</td>\n",
       "      <td>no</td>\n",
       "      <td>no</td>\n",
       "      <td>LEGO Creator 3in1 Shuttle Transporter 31091 Bu...</td>\n",
       "      <td>no</td>\n",
       "      <td>no</td>\n",
       "    </tr>\n",
       "    <tr>\n",
       "      <th>1</th>\n",
       "      <td>2019-12-08</td>\n",
       "      <td>B01BNEZOJ8</td>\n",
       "      <td>Colgate Sparkling White Gel Toothpaste Mint Zi...</td>\n",
       "      <td>Shock Doctor Double Braces Mouth Guard – Upper...</td>\n",
       "      <td>no</td>\n",
       "      <td>no</td>\n",
       "      <td>Shock Doctor Double Braces Mouth Guard  Upper ...</td>\n",
       "      <td>no</td>\n",
       "      <td>no</td>\n",
       "      <td>Pro DJ Laptop Projector Stand - Adjustable Lap...</td>\n",
       "      <td>no</td>\n",
       "      <td>no</td>\n",
       "    </tr>\n",
       "    <tr>\n",
       "      <th>2</th>\n",
       "      <td>2019-12-08</td>\n",
       "      <td>B0752NJ4H7</td>\n",
       "      <td>Colgate Total Daily Repair Toothpaste - 5.8 ounce</td>\n",
       "      <td>Oral-B Glide Pro-Health Comfort Plus Dental Fl...</td>\n",
       "      <td>no</td>\n",
       "      <td>no</td>\n",
       "      <td>Bad air sponge odor neutralant neutralizes and...</td>\n",
       "      <td>no</td>\n",
       "      <td>no</td>\n",
       "      <td>GUM Soft-Picks Original Dental Picks 320 Count</td>\n",
       "      <td>no</td>\n",
       "      <td>no</td>\n",
       "    </tr>\n",
       "  </tbody>\n",
       "</table>\n",
       "</div>"
      ],
      "text/plain": [
       "  start_date        asin                                      product_title  \\\n",
       "0 2019-12-08  B01BNEYGQU  Colgate Kids Toothpaste Pump Maximum Cavity Pr...   \n",
       "1 2019-12-08  B01BNEZOJ8  Colgate Sparkling White Gel Toothpaste Mint Zi...   \n",
       "2 2019-12-08  B0752NJ4H7  Colgate Total Daily Repair Toothpaste - 5.8 ounce   \n",
       "\n",
       "                          n1_purchased_product_title n1_internal  \\\n",
       "0                   Disney Plus Yearly with 7 Day FT          no   \n",
       "1  Shock Doctor Double Braces Mouth Guard – Upper...          no   \n",
       "2  Oral-B Glide Pro-Health Comfort Plus Dental Fl...          no   \n",
       "\n",
       "  n1_substitute                         n2_purchased_product_title  \\\n",
       "0            no                       Pokémon XY Evolutions Bundle   \n",
       "1            no  Shock Doctor Double Braces Mouth Guard  Upper ...   \n",
       "2            no  Bad air sponge odor neutralant neutralizes and...   \n",
       "\n",
       "  n2_internal n2_substitute  \\\n",
       "0          no            no   \n",
       "1          no            no   \n",
       "2          no            no   \n",
       "\n",
       "                          n3_purchased_product_title n3_internal n3_substitute  \n",
       "0  LEGO Creator 3in1 Shuttle Transporter 31091 Bu...          no            no  \n",
       "1  Pro DJ Laptop Projector Stand - Adjustable Lap...          no            no  \n",
       "2     GUM Soft-Picks Original Dental Picks 320 Count          no            no  "
      ]
     },
     "execution_count": 16,
     "metadata": {},
     "output_type": "execute_result"
    }
   ],
   "source": [
    "alt_purchase_merged.head(3)"
   ]
  },
  {
   "cell_type": "code",
   "execution_count": 17,
   "metadata": {},
   "outputs": [
    {
     "name": "stdout",
     "output_type": "stream",
     "text": [
      "no     50.279033\n",
      "yes    49.720967\n",
      "Name: n1_internal, dtype: float64\n"
     ]
    },
    {
     "data": {
      "image/png": "[encoded data removed]",
      "text/plain": [
       "<Figure size 720x432 with 1 Axes>"
      ]
     },
     "metadata": {
      "needs_background": "light"
     },
     "output_type": "display_data"
    }
   ],
   "source": [
    "alt.show_internal_external(alt_purchase_merged.n1_internal)"
   ]
  },
  {
   "cell_type": "code",
   "execution_count": 18,
   "metadata": {},
   "outputs": [
    {
     "name": "stdout",
     "output_type": "stream",
     "text": [
      "no     94.567404\n",
      "yes     5.432596\n",
      "Name: n1_substitute, dtype: float64\n"
     ]
    },
    {
     "data": {
      "image/png": "[encoded data removed]",
      "text/plain": [
       "<Figure size 720x432 with 1 Axes>"
      ]
     },
     "metadata": {
      "needs_background": "light"
     },
     "output_type": "display_data"
    }
   ],
   "source": [
    "alt.show_substitutes(alt_purchase_merged.n1_substitute)"
   ]
  },
  {
   "cell_type": "code",
   "execution_count": 19,
   "metadata": {},
   "outputs": [
    {
     "name": "stdout",
     "output_type": "stream",
     "text": [
      "no     50.279033\n",
      "yes    49.720967\n",
      "Name: n1_internal, dtype: float64\n",
      "************\n",
      "\n",
      "no     66.94127\n",
      "yes    33.05873\n",
      "Name: n2_internal, dtype: float64\n",
      "************\n",
      "\n",
      "no     75.771611\n",
      "yes    24.228389\n",
      "Name: n3_internal, dtype: float64\n"
     ]
    },
    {
     "data": {
      "image/png": "[encoded data removed]",
      "text/plain": [
       "<Figure size 1008x432 with 3 Axes>"
      ]
     },
     "metadata": {
      "needs_background": "light"
     },
     "output_type": "display_data"
    }
   ],
   "source": [
    "alt.show_internal_external_subplot(alt_purchase_merged.n1_internal, \n",
    "                                   alt_purchase_merged.n2_internal,\n",
    "                                  alt_purchase_merged.n3_internal)"
   ]
  },
  {
   "cell_type": "code",
   "execution_count": 20,
   "metadata": {},
   "outputs": [
    {
     "name": "stdout",
     "output_type": "stream",
     "text": [
      "no     94.567404\n",
      "yes     5.432596\n",
      "Name: n1_substitute, dtype: float64\n",
      "************\n",
      "\n",
      "no     92.919783\n",
      "yes     7.080217\n",
      "Name: n2_substitute, dtype: float64\n",
      "************\n",
      "\n",
      "no     91.985878\n",
      "yes     8.014122\n",
      "Name: n3_substitute, dtype: float64\n"
     ]
    },
    {
     "data": {
      "image/png": "[encoded data removed]",
      "text/plain": [
       "<Figure size 1008x432 with 3 Axes>"
      ]
     },
     "metadata": {
      "needs_background": "light"
     },
     "output_type": "display_data"
    }
   ],
   "source": [
    "alt.show_substitues_subplot(alt_purchase_merged.n1_substitute,\n",
    "                           alt_purchase_merged.n2_substitute,\n",
    "                           alt_purchase_merged.n3_substitute)"
   ]
  },
  {
   "cell_type": "markdown",
   "metadata": {},
   "source": [
    "### Alternate Products: Toothbrush"
   ]
  },
  {
   "cell_type": "code",
   "execution_count": 21,
   "metadata": {},
   "outputs": [],
   "source": [
    "alt_purchase_toothbrush = get_subcategory(alt_purchase, keyword='Toothbrush')"
   ]
  },
  {
   "cell_type": "code",
   "execution_count": 22,
   "metadata": {},
   "outputs": [],
   "source": [
    "alt = AlternateProducts(alt_purchase_toothbrush, prod_catalog, 'n1_purchased_product_title', brand='Colgate', keyword='Toothbrush')"
   ]
  },
  {
   "cell_type": "code",
   "execution_count": 23,
   "metadata": {},
   "outputs": [],
   "source": [
    "alt_purchase_1 = alt.flag_alt_products()"
   ]
  },
  {
   "cell_type": "code",
   "execution_count": 24,
   "metadata": {},
   "outputs": [
    {
     "data": {
      "text/html": [
       "<div>\n",
       "<style scoped>\n",
       "    .dataframe tbody tr th:only-of-type {\n",
       "        vertical-align: middle;\n",
       "    }\n",
       "\n",
       "    .dataframe tbody tr th {\n",
       "        vertical-align: top;\n",
       "    }\n",
       "\n",
       "    .dataframe thead th {\n",
       "        text-align: right;\n",
       "    }\n",
       "</style>\n",
       "<table border=\"1\" class=\"dataframe\">\n",
       "  <thead>\n",
       "    <tr style=\"text-align: right;\">\n",
       "      <th></th>\n",
       "      <th>start_date</th>\n",
       "      <th>asin</th>\n",
       "      <th>product_title</th>\n",
       "      <th>n1_purchased_product_title</th>\n",
       "      <th>n1_internal</th>\n",
       "      <th>n1_substitute</th>\n",
       "    </tr>\n",
       "  </thead>\n",
       "  <tbody>\n",
       "    <tr>\n",
       "      <th>0</th>\n",
       "      <td>2019-12-08</td>\n",
       "      <td>B00UB6T4SM</td>\n",
       "      <td>Colgate Total 360 Adult Soft Manual Toothbrush...</td>\n",
       "      <td>Nutramax Cosequin DS PLUS MSM Chewable Tablets...</td>\n",
       "      <td>no</td>\n",
       "      <td>no</td>\n",
       "    </tr>\n",
       "    <tr>\n",
       "      <th>1</th>\n",
       "      <td>2019-12-08</td>\n",
       "      <td>B07W7WFHTX</td>\n",
       "      <td>Colgate Essentials Charcoal Teeth Whitening To...</td>\n",
       "      <td>Colgate Essentials Charcoal Teeth Whitening To...</td>\n",
       "      <td>yes</td>\n",
       "      <td>no</td>\n",
       "    </tr>\n",
       "    <tr>\n",
       "      <th>2</th>\n",
       "      <td>2019-12-08</td>\n",
       "      <td>B0795WDX1R</td>\n",
       "      <td>Colgate 360 Medium Toothbrush with Tongue and ...</td>\n",
       "      <td>Sensodyne Pronamel Gentle Whitening Sensitive ...</td>\n",
       "      <td>no</td>\n",
       "      <td>no</td>\n",
       "    </tr>\n",
       "    <tr>\n",
       "      <th>3</th>\n",
       "      <td>2019-12-08</td>\n",
       "      <td>B005HIJL64</td>\n",
       "      <td>Colgate 360° Optic White Whitening Toothbrush ...</td>\n",
       "      <td>Colgate 360 Optic White Whitening Toothbrush S...</td>\n",
       "      <td>yes</td>\n",
       "      <td>no</td>\n",
       "    </tr>\n",
       "    <tr>\n",
       "      <th>4</th>\n",
       "      <td>2019-12-08</td>\n",
       "      <td>B009359FD6</td>\n",
       "      <td>Colgate 360 Optic White Battery Toothbrush Rep...</td>\n",
       "      <td>Tombow 56190 Beginner Lettering Set. Includes ...</td>\n",
       "      <td>no</td>\n",
       "      <td>no</td>\n",
       "    </tr>\n",
       "  </tbody>\n",
       "</table>\n",
       "</div>"
      ],
      "text/plain": [
       "  start_date        asin                                      product_title  \\\n",
       "0 2019-12-08  B00UB6T4SM  Colgate Total 360 Adult Soft Manual Toothbrush...   \n",
       "1 2019-12-08  B07W7WFHTX  Colgate Essentials Charcoal Teeth Whitening To...   \n",
       "2 2019-12-08  B0795WDX1R  Colgate 360 Medium Toothbrush with Tongue and ...   \n",
       "3 2019-12-08  B005HIJL64  Colgate 360° Optic White Whitening Toothbrush ...   \n",
       "4 2019-12-08  B009359FD6  Colgate 360 Optic White Battery Toothbrush Rep...   \n",
       "\n",
       "                          n1_purchased_product_title n1_internal n1_substitute  \n",
       "0  Nutramax Cosequin DS PLUS MSM Chewable Tablets...          no            no  \n",
       "1  Colgate Essentials Charcoal Teeth Whitening To...         yes            no  \n",
       "2  Sensodyne Pronamel Gentle Whitening Sensitive ...          no            no  \n",
       "3  Colgate 360 Optic White Whitening Toothbrush S...         yes            no  \n",
       "4  Tombow 56190 Beginner Lettering Set. Includes ...          no            no  "
      ]
     },
     "execution_count": 24,
     "metadata": {},
     "output_type": "execute_result"
    }
   ],
   "source": [
    "alt_purchase_1.head()"
   ]
  },
  {
   "cell_type": "code",
   "execution_count": 25,
   "metadata": {},
   "outputs": [],
   "source": [
    "alt = AlternateProducts(alt_purchase_toothbrush, prod_catalog, 'n2_purchased_product_title', brand='Colgate', keyword='Toothbrush')"
   ]
  },
  {
   "cell_type": "code",
   "execution_count": 26,
   "metadata": {},
   "outputs": [],
   "source": [
    "alt_purchase_2 = alt.flag_alt_products()"
   ]
  },
  {
   "cell_type": "code",
   "execution_count": 27,
   "metadata": {},
   "outputs": [],
   "source": [
    "alt = AlternateProducts(alt_purchase_toothbrush, prod_catalog, 'n3_purchased_product_title', brand='Colgate', keyword='Toothbrush')"
   ]
  },
  {
   "cell_type": "code",
   "execution_count": 28,
   "metadata": {},
   "outputs": [],
   "source": [
    "alt_purchase_3 = alt.flag_alt_products()"
   ]
  },
  {
   "cell_type": "code",
   "execution_count": 29,
   "metadata": {},
   "outputs": [],
   "source": [
    "alt_purchase_merged = alt.merge_table(alt_purchase_1, alt_purchase_2, alt_purchase_3)"
   ]
  },
  {
   "cell_type": "code",
   "execution_count": 30,
   "metadata": {},
   "outputs": [
    {
     "data": {
      "text/html": [
       "<div>\n",
       "<style scoped>\n",
       "    .dataframe tbody tr th:only-of-type {\n",
       "        vertical-align: middle;\n",
       "    }\n",
       "\n",
       "    .dataframe tbody tr th {\n",
       "        vertical-align: top;\n",
       "    }\n",
       "\n",
       "    .dataframe thead th {\n",
       "        text-align: right;\n",
       "    }\n",
       "</style>\n",
       "<table border=\"1\" class=\"dataframe\">\n",
       "  <thead>\n",
       "    <tr style=\"text-align: right;\">\n",
       "      <th></th>\n",
       "      <th>start_date</th>\n",
       "      <th>asin</th>\n",
       "      <th>product_title</th>\n",
       "      <th>n1_purchased_product_title</th>\n",
       "      <th>n1_internal</th>\n",
       "      <th>n1_substitute</th>\n",
       "      <th>n2_purchased_product_title</th>\n",
       "      <th>n2_internal</th>\n",
       "      <th>n2_substitute</th>\n",
       "      <th>n3_purchased_product_title</th>\n",
       "      <th>n3_internal</th>\n",
       "      <th>n3_substitute</th>\n",
       "    </tr>\n",
       "  </thead>\n",
       "  <tbody>\n",
       "    <tr>\n",
       "      <th>0</th>\n",
       "      <td>2019-12-08</td>\n",
       "      <td>B00UB6T4SM</td>\n",
       "      <td>Colgate Total 360 Adult Soft Manual Toothbrush...</td>\n",
       "      <td>Nutramax Cosequin DS PLUS MSM Chewable Tablets...</td>\n",
       "      <td>no</td>\n",
       "      <td>no</td>\n",
       "      <td>Oral-B 3D White Luxe Pro-Flex 38 Medium Manual...</td>\n",
       "      <td>no</td>\n",
       "      <td>yes</td>\n",
       "      <td>Quest Nutrition Double Chocolate Chip Protein ...</td>\n",
       "      <td>no</td>\n",
       "      <td>no</td>\n",
       "    </tr>\n",
       "    <tr>\n",
       "      <th>1</th>\n",
       "      <td>2019-12-08</td>\n",
       "      <td>B07W7WFHTX</td>\n",
       "      <td>Colgate Essentials Charcoal Teeth Whitening To...</td>\n",
       "      <td>Colgate Essentials Charcoal Teeth Whitening To...</td>\n",
       "      <td>yes</td>\n",
       "      <td>no</td>\n",
       "      <td>Colgate Slimsoft Floss-Tip Charcoal Toothbrush...</td>\n",
       "      <td>yes</td>\n",
       "      <td>no</td>\n",
       "      <td>Colgate Essentials Charcoal Teeth Whitening To...</td>\n",
       "      <td>yes</td>\n",
       "      <td>no</td>\n",
       "    </tr>\n",
       "    <tr>\n",
       "      <th>2</th>\n",
       "      <td>2019-12-08</td>\n",
       "      <td>B0795WDX1R</td>\n",
       "      <td>Colgate 360 Medium Toothbrush with Tongue and ...</td>\n",
       "      <td>Sensodyne Pronamel Gentle Whitening Sensitive ...</td>\n",
       "      <td>no</td>\n",
       "      <td>no</td>\n",
       "      <td>SheaMoisture Manuka Honey &amp; Mafura Oil Intensi...</td>\n",
       "      <td>no</td>\n",
       "      <td>no</td>\n",
       "      <td>Colgate 360 Optic White Whitening Toothbrush S...</td>\n",
       "      <td>yes</td>\n",
       "      <td>no</td>\n",
       "    </tr>\n",
       "  </tbody>\n",
       "</table>\n",
       "</div>"
      ],
      "text/plain": [
       "  start_date        asin                                      product_title  \\\n",
       "0 2019-12-08  B00UB6T4SM  Colgate Total 360 Adult Soft Manual Toothbrush...   \n",
       "1 2019-12-08  B07W7WFHTX  Colgate Essentials Charcoal Teeth Whitening To...   \n",
       "2 2019-12-08  B0795WDX1R  Colgate 360 Medium Toothbrush with Tongue and ...   \n",
       "\n",
       "                          n1_purchased_product_title n1_internal  \\\n",
       "0  Nutramax Cosequin DS PLUS MSM Chewable Tablets...          no   \n",
       "1  Colgate Essentials Charcoal Teeth Whitening To...         yes   \n",
       "2  Sensodyne Pronamel Gentle Whitening Sensitive ...          no   \n",
       "\n",
       "  n1_substitute                         n2_purchased_product_title  \\\n",
       "0            no  Oral-B 3D White Luxe Pro-Flex 38 Medium Manual...   \n",
       "1            no  Colgate Slimsoft Floss-Tip Charcoal Toothbrush...   \n",
       "2            no  SheaMoisture Manuka Honey & Mafura Oil Intensi...   \n",
       "\n",
       "  n2_internal n2_substitute  \\\n",
       "0          no           yes   \n",
       "1         yes            no   \n",
       "2          no            no   \n",
       "\n",
       "                          n3_purchased_product_title n3_internal n3_substitute  \n",
       "0  Quest Nutrition Double Chocolate Chip Protein ...          no            no  \n",
       "1  Colgate Essentials Charcoal Teeth Whitening To...         yes            no  \n",
       "2  Colgate 360 Optic White Whitening Toothbrush S...         yes            no  "
      ]
     },
     "execution_count": 30,
     "metadata": {},
     "output_type": "execute_result"
    }
   ],
   "source": [
    "alt_purchase_merged.head(3)"
   ]
  },
  {
   "cell_type": "code",
   "execution_count": 31,
   "metadata": {},
   "outputs": [
    {
     "name": "stdout",
     "output_type": "stream",
     "text": [
      "no     58.519661\n",
      "yes    41.480339\n",
      "Name: n1_internal, dtype: float64\n"
     ]
    },
    {
     "data": {
      "image/png": "[encoded data removed]",
      "text/plain": [
       "<Figure size 720x432 with 1 Axes>"
      ]
     },
     "metadata": {
      "needs_background": "light"
     },
     "output_type": "display_data"
    }
   ],
   "source": [
    "alt.show_internal_external(alt_purchase_merged.n1_internal)"
   ]
  },
  {
   "cell_type": "code",
   "execution_count": 32,
   "metadata": {},
   "outputs": [
    {
     "name": "stdout",
     "output_type": "stream",
     "text": [
      "no     86.187906\n",
      "yes    13.812094\n",
      "Name: n1_substitute, dtype: float64\n"
     ]
    },
    {
     "data": {
      "image/png": "[encoded data removed]",
      "text/plain": [
       "<Figure size 720x432 with 1 Axes>"
      ]
     },
     "metadata": {
      "needs_background": "light"
     },
     "output_type": "display_data"
    }
   ],
   "source": [
    "alt.show_substitutes(alt_purchase_merged.n1_substitute)"
   ]
  },
  {
   "cell_type": "code",
   "execution_count": 33,
   "metadata": {},
   "outputs": [
    {
     "name": "stdout",
     "output_type": "stream",
     "text": [
      "no     58.519661\n",
      "yes    41.480339\n",
      "Name: n1_internal, dtype: float64\n",
      "************\n",
      "\n",
      "no     70.172927\n",
      "yes    29.827073\n",
      "Name: n2_internal, dtype: float64\n",
      "************\n",
      "\n",
      "no     77.414914\n",
      "yes    22.585086\n",
      "Name: n3_internal, dtype: float64\n"
     ]
    },
    {
     "data": {
      "image/png": "[encoded data removed]",
      "text/plain": [
       "<Figure size 1008x432 with 3 Axes>"
      ]
     },
     "metadata": {
      "needs_background": "light"
     },
     "output_type": "display_data"
    }
   ],
   "source": [
    "alt.show_internal_external_subplot(alt_purchase_merged.n1_internal, \n",
    "                                   alt_purchase_merged.n2_internal,\n",
    "                                  alt_purchase_merged.n3_internal)"
   ]
  },
  {
   "cell_type": "code",
   "execution_count": 34,
   "metadata": {},
   "outputs": [
    {
     "name": "stdout",
     "output_type": "stream",
     "text": [
      "no     86.187906\n",
      "yes    13.812094\n",
      "Name: n1_substitute, dtype: float64\n",
      "************\n",
      "\n",
      "no     86.198921\n",
      "yes    13.801079\n",
      "Name: n2_substitute, dtype: float64\n",
      "************\n",
      "\n",
      "no     86.127327\n",
      "yes    13.872673\n",
      "Name: n3_substitute, dtype: float64\n"
     ]
    },
    {
     "data": {
      "image/png": "[encoded data removed]",
      "text/plain": [
       "<Figure size 1008x432 with 3 Axes>"
      ]
     },
     "metadata": {
      "needs_background": "light"
     },
     "output_type": "display_data"
    }
   ],
   "source": [
    "alt.show_substitues_subplot(alt_purchase_merged.n1_substitute,\n",
    "                           alt_purchase_merged.n2_substitute,\n",
    "                           alt_purchase_merged.n3_substitute)"
   ]
  },
  {
   "cell_type": "code",
   "execution_count": null,
   "metadata": {},
   "outputs": [],
   "source": []
  },
  {
   "cell_type": "code",
   "execution_count": null,
   "metadata": {},
   "outputs": [],
   "source": [
    "alt_p = AlternateProducts(hills_alt_purchase, prod_catalog, 'n1_purchased_product_title', brand=\"Hill's\", keyword = \"Hill's\")"
   ]
  },
  {
   "cell_type": "code",
   "execution_count": null,
   "metadata": {},
   "outputs": [],
   "source": [
    "hills_alt_product_1 = alt_p.flag_alt_products()"
   ]
  },
  {
   "cell_type": "code",
   "execution_count": null,
   "metadata": {},
   "outputs": [],
   "source": [
    "alt_p = AlternateProducts(hills_alt_purchase, prod_catalog, 'n2_purchased_product_title', brand=\"Hill's\", keyword = \"Hill's\")\n",
    "hills_alt_product_2 = alt_p.flag_alt_products()"
   ]
  },
  {
   "cell_type": "code",
   "execution_count": null,
   "metadata": {},
   "outputs": [],
   "source": [
    "alt_p = AlternateProducts(hills_alt_purchase, prod_catalog, 'n3_purchased_product_title', brand=\"Hill's\", keyword = \"Hill's\")\n",
    "hills_alt_product_3 = alt_p.flag_alt_products()"
   ]
  },
  {
   "cell_type": "code",
   "execution_count": null,
   "metadata": {},
   "outputs": [],
   "source": [
    "hills_alt_product_merged = alt_p.merge_table(hills_alt_product_1, hills_alt_product_2, hills_alt_product_3)"
   ]
  },
  {
   "cell_type": "code",
   "execution_count": null,
   "metadata": {},
   "outputs": [],
   "source": [
    "hills_alt_product_merged.head()"
   ]
  },
  {
   "cell_type": "code",
   "execution_count": null,
   "metadata": {},
   "outputs": [],
   "source": [
    "alt_p.show_internal_external_subplot(hills_alt_product_merged.n1_internal,\n",
    "                                    hills_alt_product_merged.n2_internal,\n",
    "                                    hills_alt_product_merged.n3_internal,)"
   ]
  },
  {
   "cell_type": "code",
   "execution_count": null,
   "metadata": {},
   "outputs": [],
   "source": [
    "alt_p.show_substitues_subplot(hills_alt_product_merged.n1_substitute,\n",
    "                             hills_alt_product_merged.n2_substitute,\n",
    "                             hills_alt_product_merged.n3_substitute)"
   ]
  },
  {
   "cell_type": "code",
   "execution_count": null,
   "metadata": {},
   "outputs": [],
   "source": []
  }
 ],
 "metadata": {
  "kernelspec": {
   "display_name": "Python 3",
   "language": "python",
   "name": "python3"
  },
  "language_info": {
   "codemirror_mode": {
    "name": "ipython",
    "version": 3
   },
   "file_extension": ".py",
   "mimetype": "text/x-python",
   "name": "python",
   "nbconvert_exporter": "python",
   "pygments_lexer": "ipython3",
   "version": "3.7.4"
  }
 },
 "nbformat": 4,
 "nbformat_minor": 4
}
