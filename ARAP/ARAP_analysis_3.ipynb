{
 "cells": [
  {
   "cell_type": "code",
   "execution_count": 1,
   "metadata": {},
   "outputs": [],
   "source": [
    "import pandas as pd\n",
    "import numpy as np\n",
    "import matplotlib.pyplot as plt\n",
    "import seaborn as sns\n",
    "import pandas_gbq\n",
    "\n",
    "import re\n",
    "\n",
    "import warnings\n",
    "warnings.filterwarnings('ignore')"
   ]
  },
  {
   "cell_type": "code",
   "execution_count": 2,
   "metadata": {},
   "outputs": [],
   "source": [
    "#import arap_helpers\n",
    "from arap_helpers import QueryTable, AlternateProducts, get_prod_catalog, get_subcategory \n",
    "\n",
    "project_id = \"cp-gaa-visualization-dev\""
   ]
  },
  {
   "cell_type": "markdown",
   "metadata": {},
   "source": [
    "### ALternate Purchase: Hill's"
   ]
  },
  {
   "cell_type": "raw",
   "metadata": {},
   "source": [
    "sql_query = \"\"\"\n",
    "SELECT\n",
    "  start_date,\n",
    "  asin,\n",
    "  product_title,\n",
    "  n1_purchased_asin,\n",
    "  n1_purchased_product_title,\n",
    "  n1_purchased_percent,\n",
    "  n2_purchased_asin,\n",
    "  n2_purchased_product_title,\n",
    "  n2_purchased_percent,\n",
    "  n3_purchased_asin,\n",
    "  n3_purchased_product_title,\n",
    "  n3_purchased_percent,\n",
    "  company\n",
    "FROM \n",
    "  `cp-gaa-visualization-dev.arap.alternate_purchase_wly` \n",
    "WHERE \n",
    "  country = 'USA' and company LIKE '%HILLS'\n",
    "\n",
    "\"\"\""
   ]
  },
  {
   "cell_type": "code",
   "execution_count": 4,
   "metadata": {},
   "outputs": [],
   "source": [
    "hills_qry = QueryTable(sql_query)"
   ]
  },
  {
   "cell_type": "code",
   "execution_count": 5,
   "metadata": {},
   "outputs": [
    {
     "name": "stderr",
     "output_type": "stream",
     "text": [
      "Downloading: 100%|██████████| 29020/29020 [00:04<00:00, 6406.78rows/s]\n"
     ]
    }
   ],
   "source": [
    "hills_df = hills_qry.query_table()"
   ]
  },
  {
   "cell_type": "code",
   "execution_count": 6,
   "metadata": {},
   "outputs": [
    {
     "name": "stdout",
     "output_type": "stream",
     "text": [
      "There are 706 unique products\n"
     ]
    }
   ],
   "source": [
    "prod_catalog = get_prod_catalog(hills_df)\n",
    "hills_alt_purchase = get_subcategory(hills_df, keyword=\"Hill's\")"
   ]
  },
  {
   "cell_type": "code",
   "execution_count": 7,
   "metadata": {},
   "outputs": [],
   "source": [
    "alt_p = AlternateProducts(hills_alt_purchase, prod_catalog, 'n1_purchased_product_title', brand=\"Hill's\", keyword = \"Hill's\")"
   ]
  },
  {
   "cell_type": "code",
   "execution_count": 8,
   "metadata": {},
   "outputs": [],
   "source": [
    "hills_1 = alt_p.flag_alt_hills_products()"
   ]
  },
  {
   "cell_type": "code",
   "execution_count": 9,
   "metadata": {},
   "outputs": [
    {
     "data": {
      "text/html": [
       "<div>\n",
       "<style scoped>\n",
       "    .dataframe tbody tr th:only-of-type {\n",
       "        vertical-align: middle;\n",
       "    }\n",
       "\n",
       "    .dataframe tbody tr th {\n",
       "        vertical-align: top;\n",
       "    }\n",
       "\n",
       "    .dataframe thead th {\n",
       "        text-align: right;\n",
       "    }\n",
       "</style>\n",
       "<table border=\"1\" class=\"dataframe\">\n",
       "  <thead>\n",
       "    <tr style=\"text-align: right;\">\n",
       "      <th></th>\n",
       "      <th>start_date</th>\n",
       "      <th>asin</th>\n",
       "      <th>product_title</th>\n",
       "      <th>n1_purchased_product_title</th>\n",
       "      <th>n1_internal</th>\n",
       "      <th>n1_substitute</th>\n",
       "    </tr>\n",
       "  </thead>\n",
       "  <tbody>\n",
       "    <tr>\n",
       "      <th>0</th>\n",
       "      <td>2018-09-30</td>\n",
       "      <td>B002Z9JJBA</td>\n",
       "      <td>Hill's Science Diet Wet Cat Food Adult Indoor ...</td>\n",
       "      <td>Fitbit Charge 3 Fitness Activity Tracker Rose ...</td>\n",
       "      <td>no</td>\n",
       "      <td>no</td>\n",
       "    </tr>\n",
       "    <tr>\n",
       "      <th>1</th>\n",
       "      <td>2018-09-30</td>\n",
       "      <td>B003NWKMB4</td>\n",
       "      <td>Hill's Science Diet Dry Dog Food Adult Lamb Me...</td>\n",
       "      <td>Hill's Science Diet Dry Dog Food Adult Lamb Me...</td>\n",
       "      <td>yes</td>\n",
       "      <td>no</td>\n",
       "    </tr>\n",
       "    <tr>\n",
       "      <th>2</th>\n",
       "      <td>2018-09-30</td>\n",
       "      <td>B002Z9EQMC</td>\n",
       "      <td>Hill's Science Diet Wet Cat Food Adult Minced ...</td>\n",
       "      <td>Hill's Science Diet Wet Cat Food Adult Minced ...</td>\n",
       "      <td>yes</td>\n",
       "      <td>no</td>\n",
       "    </tr>\n",
       "    <tr>\n",
       "      <th>3</th>\n",
       "      <td>2018-09-30</td>\n",
       "      <td>B0002TJAYG</td>\n",
       "      <td>Hill's Science Diet Wet Cat Food Adult Minced ...</td>\n",
       "      <td>Hill's Science Diet Wet Cat Food Adult Tender ...</td>\n",
       "      <td>yes</td>\n",
       "      <td>no</td>\n",
       "    </tr>\n",
       "    <tr>\n",
       "      <th>4</th>\n",
       "      <td>2018-09-30</td>\n",
       "      <td>B0033YYG46</td>\n",
       "      <td>Hill's Science Diet Wet Dog Food Adult 13 oz C...</td>\n",
       "      <td>Hill's Science Diet Wet Dog Food Adult 13 oz C...</td>\n",
       "      <td>yes</td>\n",
       "      <td>no</td>\n",
       "    </tr>\n",
       "  </tbody>\n",
       "</table>\n",
       "</div>"
      ],
      "text/plain": [
       "  start_date        asin                                      product_title  \\\n",
       "0 2018-09-30  B002Z9JJBA  Hill's Science Diet Wet Cat Food Adult Indoor ...   \n",
       "1 2018-09-30  B003NWKMB4  Hill's Science Diet Dry Dog Food Adult Lamb Me...   \n",
       "2 2018-09-30  B002Z9EQMC  Hill's Science Diet Wet Cat Food Adult Minced ...   \n",
       "3 2018-09-30  B0002TJAYG  Hill's Science Diet Wet Cat Food Adult Minced ...   \n",
       "4 2018-09-30  B0033YYG46  Hill's Science Diet Wet Dog Food Adult 13 oz C...   \n",
       "\n",
       "                          n1_purchased_product_title n1_internal n1_substitute  \n",
       "0  Fitbit Charge 3 Fitness Activity Tracker Rose ...          no            no  \n",
       "1  Hill's Science Diet Dry Dog Food Adult Lamb Me...         yes            no  \n",
       "2  Hill's Science Diet Wet Cat Food Adult Minced ...         yes            no  \n",
       "3  Hill's Science Diet Wet Cat Food Adult Tender ...         yes            no  \n",
       "4  Hill's Science Diet Wet Dog Food Adult 13 oz C...         yes            no  "
      ]
     },
     "execution_count": 9,
     "metadata": {},
     "output_type": "execute_result"
    }
   ],
   "source": [
    "hills_1.head()"
   ]
  },
  {
   "cell_type": "code",
   "execution_count": 10,
   "metadata": {},
   "outputs": [],
   "source": [
    "alt_p = AlternateProducts(hills_alt_purchase, prod_catalog, 'n2_purchased_product_title', brand=\"Hill's\", keyword = \"Hill's\")"
   ]
  },
  {
   "cell_type": "code",
   "execution_count": 11,
   "metadata": {},
   "outputs": [],
   "source": [
    "hills_2 = alt_p.flag_alt_hills_products()"
   ]
  },
  {
   "cell_type": "code",
   "execution_count": 12,
   "metadata": {},
   "outputs": [],
   "source": [
    "alt_p = AlternateProducts(hills_alt_purchase, prod_catalog, 'n3_purchased_product_title', brand=\"Hill's\", keyword = \"Hill's\")"
   ]
  },
  {
   "cell_type": "code",
   "execution_count": 13,
   "metadata": {},
   "outputs": [],
   "source": [
    "hills_3 = alt_p.flag_alt_hills_products()"
   ]
  },
  {
   "cell_type": "code",
   "execution_count": 14,
   "metadata": {},
   "outputs": [
    {
     "data": {
      "text/html": [
       "<div>\n",
       "<style scoped>\n",
       "    .dataframe tbody tr th:only-of-type {\n",
       "        vertical-align: middle;\n",
       "    }\n",
       "\n",
       "    .dataframe tbody tr th {\n",
       "        vertical-align: top;\n",
       "    }\n",
       "\n",
       "    .dataframe thead th {\n",
       "        text-align: right;\n",
       "    }\n",
       "</style>\n",
       "<table border=\"1\" class=\"dataframe\">\n",
       "  <thead>\n",
       "    <tr style=\"text-align: right;\">\n",
       "      <th></th>\n",
       "      <th>start_date</th>\n",
       "      <th>asin</th>\n",
       "      <th>product_title</th>\n",
       "      <th>n3_purchased_product_title</th>\n",
       "      <th>n3_internal</th>\n",
       "      <th>n3_substitute</th>\n",
       "    </tr>\n",
       "  </thead>\n",
       "  <tbody>\n",
       "    <tr>\n",
       "      <th>0</th>\n",
       "      <td>2018-09-30</td>\n",
       "      <td>B002Z9JJBA</td>\n",
       "      <td>Hill's Science Diet Wet Cat Food Adult Indoor ...</td>\n",
       "      <td>Hill's Science Diet Wet Cat Food Adult Chunks ...</td>\n",
       "      <td>yes</td>\n",
       "      <td>no</td>\n",
       "    </tr>\n",
       "    <tr>\n",
       "      <th>1</th>\n",
       "      <td>2018-09-30</td>\n",
       "      <td>B003NWKMB4</td>\n",
       "      <td>Hill's Science Diet Dry Dog Food Adult Lamb Me...</td>\n",
       "      <td>Nature's Recipe Lamb Rice &amp; Barley Recipe Stew...</td>\n",
       "      <td>no</td>\n",
       "      <td>yes</td>\n",
       "    </tr>\n",
       "    <tr>\n",
       "      <th>2</th>\n",
       "      <td>2018-09-30</td>\n",
       "      <td>B002Z9EQMC</td>\n",
       "      <td>Hill's Science Diet Wet Cat Food Adult Minced ...</td>\n",
       "      <td>Hill's Science Diet Wet Cat Food Adult Indoor ...</td>\n",
       "      <td>yes</td>\n",
       "      <td>no</td>\n",
       "    </tr>\n",
       "    <tr>\n",
       "      <th>3</th>\n",
       "      <td>2018-09-30</td>\n",
       "      <td>B0002TJAYG</td>\n",
       "      <td>Hill's Science Diet Wet Cat Food Adult Minced ...</td>\n",
       "      <td>Hill's Science Diet Wet Cat Food Adult Minced ...</td>\n",
       "      <td>yes</td>\n",
       "      <td>no</td>\n",
       "    </tr>\n",
       "    <tr>\n",
       "      <th>4</th>\n",
       "      <td>2018-09-30</td>\n",
       "      <td>B0033YYG46</td>\n",
       "      <td>Hill's Science Diet Wet Dog Food Adult 13 oz C...</td>\n",
       "      <td>Hill's Science Diet Wet Dog Food Adult 7+ for ...</td>\n",
       "      <td>yes</td>\n",
       "      <td>no</td>\n",
       "    </tr>\n",
       "  </tbody>\n",
       "</table>\n",
       "</div>"
      ],
      "text/plain": [
       "  start_date        asin                                      product_title  \\\n",
       "0 2018-09-30  B002Z9JJBA  Hill's Science Diet Wet Cat Food Adult Indoor ...   \n",
       "1 2018-09-30  B003NWKMB4  Hill's Science Diet Dry Dog Food Adult Lamb Me...   \n",
       "2 2018-09-30  B002Z9EQMC  Hill's Science Diet Wet Cat Food Adult Minced ...   \n",
       "3 2018-09-30  B0002TJAYG  Hill's Science Diet Wet Cat Food Adult Minced ...   \n",
       "4 2018-09-30  B0033YYG46  Hill's Science Diet Wet Dog Food Adult 13 oz C...   \n",
       "\n",
       "                          n3_purchased_product_title n3_internal n3_substitute  \n",
       "0  Hill's Science Diet Wet Cat Food Adult Chunks ...         yes            no  \n",
       "1  Nature's Recipe Lamb Rice & Barley Recipe Stew...          no           yes  \n",
       "2  Hill's Science Diet Wet Cat Food Adult Indoor ...         yes            no  \n",
       "3  Hill's Science Diet Wet Cat Food Adult Minced ...         yes            no  \n",
       "4  Hill's Science Diet Wet Dog Food Adult 7+ for ...         yes            no  "
      ]
     },
     "execution_count": 14,
     "metadata": {},
     "output_type": "execute_result"
    }
   ],
   "source": [
    "hills_3.head()"
   ]
  },
  {
   "cell_type": "code",
   "execution_count": 20,
   "metadata": {},
   "outputs": [
    {
     "name": "stdout",
     "output_type": "stream",
     "text": [
      "An Example of a switch from an internal product into a substitute:\n",
      "\n",
      "From ==> Hill's Science Diet Dry Dog Food Adult Lamb Meal & Brown Rice Recipe 15.5 lb Bag\n",
      "\n",
      "\n",
      "Into ==> Nature's Recipe Lamb Rice & Barley Recipe Stew Wet Dog Food 13.2 Ounces (Pack of 12) Easy to Digest\n"
     ]
    }
   ],
   "source": [
    "print(\"An Example of a switch from an internal product into a substitute:\\n\")\n",
    "print(f'From ==> {hills_3.product_title[1]}')\n",
    "print('\\n')\n",
    "print(f'Into ==> {hills_3.n3_purchased_product_title[1]}')"
   ]
  },
  {
   "cell_type": "code",
   "execution_count": 21,
   "metadata": {},
   "outputs": [
    {
     "data": {
      "text/html": [
       "<div>\n",
       "<style scoped>\n",
       "    .dataframe tbody tr th:only-of-type {\n",
       "        vertical-align: middle;\n",
       "    }\n",
       "\n",
       "    .dataframe tbody tr th {\n",
       "        vertical-align: top;\n",
       "    }\n",
       "\n",
       "    .dataframe thead th {\n",
       "        text-align: right;\n",
       "    }\n",
       "</style>\n",
       "<table border=\"1\" class=\"dataframe\">\n",
       "  <thead>\n",
       "    <tr style=\"text-align: right;\">\n",
       "      <th></th>\n",
       "      <th>start_date</th>\n",
       "      <th>asin</th>\n",
       "      <th>product_title</th>\n",
       "      <th>n1_purchased_product_title</th>\n",
       "      <th>n1_internal</th>\n",
       "      <th>n1_substitute</th>\n",
       "      <th>n2_purchased_product_title</th>\n",
       "      <th>n2_internal</th>\n",
       "      <th>n2_substitute</th>\n",
       "      <th>n3_purchased_product_title</th>\n",
       "      <th>n3_internal</th>\n",
       "      <th>n3_substitute</th>\n",
       "    </tr>\n",
       "  </thead>\n",
       "  <tbody>\n",
       "    <tr>\n",
       "      <th>0</th>\n",
       "      <td>2018-09-30</td>\n",
       "      <td>B002Z9JJBA</td>\n",
       "      <td>Hill's Science Diet Wet Cat Food Adult Indoor ...</td>\n",
       "      <td>Fitbit Charge 3 Fitness Activity Tracker Rose ...</td>\n",
       "      <td>no</td>\n",
       "      <td>no</td>\n",
       "      <td>Hill's Science Diet Wet Cat Food Adult Tender ...</td>\n",
       "      <td>yes</td>\n",
       "      <td>no</td>\n",
       "      <td>Hill's Science Diet Wet Cat Food Adult Chunks ...</td>\n",
       "      <td>yes</td>\n",
       "      <td>no</td>\n",
       "    </tr>\n",
       "    <tr>\n",
       "      <th>1</th>\n",
       "      <td>2018-09-30</td>\n",
       "      <td>B003NWKMB4</td>\n",
       "      <td>Hill's Science Diet Dry Dog Food Adult Lamb Me...</td>\n",
       "      <td>Hill's Science Diet Dry Dog Food Adult Lamb Me...</td>\n",
       "      <td>yes</td>\n",
       "      <td>no</td>\n",
       "      <td>Hill's Science Diet Dry Dog Food Adult Small B...</td>\n",
       "      <td>yes</td>\n",
       "      <td>no</td>\n",
       "      <td>Nature's Recipe Lamb Rice &amp; Barley Recipe Stew...</td>\n",
       "      <td>no</td>\n",
       "      <td>yes</td>\n",
       "    </tr>\n",
       "    <tr>\n",
       "      <th>2</th>\n",
       "      <td>2018-09-30</td>\n",
       "      <td>B002Z9EQMC</td>\n",
       "      <td>Hill's Science Diet Wet Cat Food Adult Minced ...</td>\n",
       "      <td>Hill's Science Diet Wet Cat Food Adult Minced ...</td>\n",
       "      <td>yes</td>\n",
       "      <td>no</td>\n",
       "      <td>Hill's Science Diet Wet Cat Food Adult Tender ...</td>\n",
       "      <td>yes</td>\n",
       "      <td>no</td>\n",
       "      <td>Hill's Science Diet Wet Cat Food Adult Indoor ...</td>\n",
       "      <td>yes</td>\n",
       "      <td>no</td>\n",
       "    </tr>\n",
       "    <tr>\n",
       "      <th>3</th>\n",
       "      <td>2018-09-30</td>\n",
       "      <td>B0002TJAYG</td>\n",
       "      <td>Hill's Science Diet Wet Cat Food Adult Minced ...</td>\n",
       "      <td>Hill's Science Diet Wet Cat Food Adult Tender ...</td>\n",
       "      <td>yes</td>\n",
       "      <td>no</td>\n",
       "      <td>Hill's Science Diet Wet Cat Food Adult Chunks ...</td>\n",
       "      <td>yes</td>\n",
       "      <td>no</td>\n",
       "      <td>Hill's Science Diet Wet Cat Food Adult Minced ...</td>\n",
       "      <td>yes</td>\n",
       "      <td>no</td>\n",
       "    </tr>\n",
       "    <tr>\n",
       "      <th>4</th>\n",
       "      <td>2018-09-30</td>\n",
       "      <td>B0033YYG46</td>\n",
       "      <td>Hill's Science Diet Wet Dog Food Adult 13 oz C...</td>\n",
       "      <td>Hill's Science Diet Wet Dog Food Adult 13 oz C...</td>\n",
       "      <td>yes</td>\n",
       "      <td>no</td>\n",
       "      <td>Hill's Science Diet Wet Dog Food Adult Savory ...</td>\n",
       "      <td>yes</td>\n",
       "      <td>no</td>\n",
       "      <td>Hill's Science Diet Wet Dog Food Adult 7+ for ...</td>\n",
       "      <td>yes</td>\n",
       "      <td>no</td>\n",
       "    </tr>\n",
       "  </tbody>\n",
       "</table>\n",
       "</div>"
      ],
      "text/plain": [
       "  start_date        asin                                      product_title  \\\n",
       "0 2018-09-30  B002Z9JJBA  Hill's Science Diet Wet Cat Food Adult Indoor ...   \n",
       "1 2018-09-30  B003NWKMB4  Hill's Science Diet Dry Dog Food Adult Lamb Me...   \n",
       "2 2018-09-30  B002Z9EQMC  Hill's Science Diet Wet Cat Food Adult Minced ...   \n",
       "3 2018-09-30  B0002TJAYG  Hill's Science Diet Wet Cat Food Adult Minced ...   \n",
       "4 2018-09-30  B0033YYG46  Hill's Science Diet Wet Dog Food Adult 13 oz C...   \n",
       "\n",
       "                          n1_purchased_product_title n1_internal  \\\n",
       "0  Fitbit Charge 3 Fitness Activity Tracker Rose ...          no   \n",
       "1  Hill's Science Diet Dry Dog Food Adult Lamb Me...         yes   \n",
       "2  Hill's Science Diet Wet Cat Food Adult Minced ...         yes   \n",
       "3  Hill's Science Diet Wet Cat Food Adult Tender ...         yes   \n",
       "4  Hill's Science Diet Wet Dog Food Adult 13 oz C...         yes   \n",
       "\n",
       "  n1_substitute                         n2_purchased_product_title  \\\n",
       "0            no  Hill's Science Diet Wet Cat Food Adult Tender ...   \n",
       "1            no  Hill's Science Diet Dry Dog Food Adult Small B...   \n",
       "2            no  Hill's Science Diet Wet Cat Food Adult Tender ...   \n",
       "3            no  Hill's Science Diet Wet Cat Food Adult Chunks ...   \n",
       "4            no  Hill's Science Diet Wet Dog Food Adult Savory ...   \n",
       "\n",
       "  n2_internal n2_substitute  \\\n",
       "0         yes            no   \n",
       "1         yes            no   \n",
       "2         yes            no   \n",
       "3         yes            no   \n",
       "4         yes            no   \n",
       "\n",
       "                          n3_purchased_product_title n3_internal n3_substitute  \n",
       "0  Hill's Science Diet Wet Cat Food Adult Chunks ...         yes            no  \n",
       "1  Nature's Recipe Lamb Rice & Barley Recipe Stew...          no           yes  \n",
       "2  Hill's Science Diet Wet Cat Food Adult Indoor ...         yes            no  \n",
       "3  Hill's Science Diet Wet Cat Food Adult Minced ...         yes            no  \n",
       "4  Hill's Science Diet Wet Dog Food Adult 7+ for ...         yes            no  "
      ]
     },
     "execution_count": 21,
     "metadata": {},
     "output_type": "execute_result"
    }
   ],
   "source": [
    "hills_merged = alt_p.merge_table(hills_1, hills_2, hills_3)\n",
    "hills_merged.head()"
   ]
  },
  {
   "cell_type": "code",
   "execution_count": 22,
   "metadata": {},
   "outputs": [
    {
     "name": "stdout",
     "output_type": "stream",
     "text": [
      "yes    94.978793\n",
      "no      5.021207\n",
      "Name: n1_internal, dtype: float64\n",
      "************\n",
      "\n",
      "yes    90.783053\n",
      "no      9.216947\n",
      "Name: n2_internal, dtype: float64\n",
      "************\n",
      "\n",
      "yes    85.802891\n",
      "no     14.197109\n",
      "Name: n3_internal, dtype: float64\n"
     ]
    },
    {
     "data": {
      "image/png": "[encoded data removed]",
      "text/plain": [
       "<Figure size 1008x432 with 3 Axes>"
      ]
     },
     "metadata": {
      "needs_background": "light"
     },
     "output_type": "display_data"
    }
   ],
   "source": [
    "alt_p.show_internal_external_subplot(hills_merged.n1_internal,\n",
    "                                    hills_merged.n2_internal,\n",
    "                                    hills_merged.n3_internal)"
   ]
  },
  {
   "cell_type": "code",
   "execution_count": 23,
   "metadata": {},
   "outputs": [
    {
     "name": "stdout",
     "output_type": "stream",
     "text": [
      "no     98.83705\n",
      "yes     1.16295\n",
      "Name: n1_substitute, dtype: float64\n",
      "************\n",
      "\n",
      "no     97.053861\n",
      "yes     2.946139\n",
      "Name: n2_substitute, dtype: float64\n",
      "************\n",
      "\n",
      "no     93.916176\n",
      "yes     6.083824\n",
      "Name: n3_substitute, dtype: float64\n"
     ]
    },
    {
     "data": {
      "image/png": "[encoded data removed]",
      "text/plain": [
       "<Figure size 1008x432 with 3 Axes>"
      ]
     },
     "metadata": {
      "needs_background": "light"
     },
     "output_type": "display_data"
    }
   ],
   "source": [
    "alt_p.show_substitues_subplot(hills_merged.n1_substitute,\n",
    "                             hills_merged.n2_substitute,\n",
    "                             hills_merged.n3_substitute)"
   ]
  },
  {
   "cell_type": "code",
   "execution_count": 25,
   "metadata": {},
   "outputs": [
    {
     "data": {
      "text/html": [
       "<div>\n",
       "<style scoped>\n",
       "    .dataframe tbody tr th:only-of-type {\n",
       "        vertical-align: middle;\n",
       "    }\n",
       "\n",
       "    .dataframe tbody tr th {\n",
       "        vertical-align: top;\n",
       "    }\n",
       "\n",
       "    .dataframe thead th {\n",
       "        text-align: right;\n",
       "    }\n",
       "</style>\n",
       "<table border=\"1\" class=\"dataframe\">\n",
       "  <thead>\n",
       "    <tr style=\"text-align: right;\">\n",
       "      <th></th>\n",
       "      <th>n1_purchased_product_title</th>\n",
       "      <th>n1_purchased_product_count</th>\n",
       "    </tr>\n",
       "  </thead>\n",
       "  <tbody>\n",
       "    <tr>\n",
       "      <th>0</th>\n",
       "      <td>Hill's Science Diet Wet Cat Food Adult 7+ for ...</td>\n",
       "      <td>551</td>\n",
       "    </tr>\n",
       "    <tr>\n",
       "      <th>1</th>\n",
       "      <td>Hill's Science Diet Dry Dog Food Adult Large B...</td>\n",
       "      <td>444</td>\n",
       "    </tr>\n",
       "    <tr>\n",
       "      <th>2</th>\n",
       "      <td>Hill's Science Diet Wet Cat Food Kitten Health...</td>\n",
       "      <td>310</td>\n",
       "    </tr>\n",
       "    <tr>\n",
       "      <th>3</th>\n",
       "      <td>Hill's Science Diet Wet Dog Food Adult 13 oz C...</td>\n",
       "      <td>289</td>\n",
       "    </tr>\n",
       "    <tr>\n",
       "      <th>4</th>\n",
       "      <td>Hill's Science Diet Dry Dog Food Adult Sensiti...</td>\n",
       "      <td>279</td>\n",
       "    </tr>\n",
       "    <tr>\n",
       "      <th>...</th>\n",
       "      <td>...</td>\n",
       "      <td>...</td>\n",
       "    </tr>\n",
       "    <tr>\n",
       "      <th>1090</th>\n",
       "      <td>Purina Fancy Feast Grain Free Pate Wet Cat Foo...</td>\n",
       "      <td>1</td>\n",
       "    </tr>\n",
       "    <tr>\n",
       "      <th>1091</th>\n",
       "      <td>Fergon High Potency Iron Highly Soluble &amp; Easi...</td>\n",
       "      <td>1</td>\n",
       "    </tr>\n",
       "    <tr>\n",
       "      <th>1092</th>\n",
       "      <td>Spilfyter 690321 Hands-In-Bag Polyethylene Atm...</td>\n",
       "      <td>1</td>\n",
       "    </tr>\n",
       "    <tr>\n",
       "      <th>1093</th>\n",
       "      <td>Bounty Quick-Size Paper Towels White 8 Family ...</td>\n",
       "      <td>1</td>\n",
       "    </tr>\n",
       "    <tr>\n",
       "      <th>1094</th>\n",
       "      <td>Hill'S Ideal Balance Adult Grain Free Dog Food...</td>\n",
       "      <td>1</td>\n",
       "    </tr>\n",
       "  </tbody>\n",
       "</table>\n",
       "<p>1095 rows × 2 columns</p>\n",
       "</div>"
      ],
      "text/plain": [
       "                             n1_purchased_product_title  \\\n",
       "0     Hill's Science Diet Wet Cat Food Adult 7+ for ...   \n",
       "1     Hill's Science Diet Dry Dog Food Adult Large B...   \n",
       "2     Hill's Science Diet Wet Cat Food Kitten Health...   \n",
       "3     Hill's Science Diet Wet Dog Food Adult 13 oz C...   \n",
       "4     Hill's Science Diet Dry Dog Food Adult Sensiti...   \n",
       "...                                                 ...   \n",
       "1090  Purina Fancy Feast Grain Free Pate Wet Cat Foo...   \n",
       "1091  Fergon High Potency Iron Highly Soluble & Easi...   \n",
       "1092  Spilfyter 690321 Hands-In-Bag Polyethylene Atm...   \n",
       "1093  Bounty Quick-Size Paper Towels White 8 Family ...   \n",
       "1094  Hill'S Ideal Balance Adult Grain Free Dog Food...   \n",
       "\n",
       "      n1_purchased_product_count  \n",
       "0                            551  \n",
       "1                            444  \n",
       "2                            310  \n",
       "3                            289  \n",
       "4                            279  \n",
       "...                          ...  \n",
       "1090                           1  \n",
       "1091                           1  \n",
       "1092                           1  \n",
       "1093                           1  \n",
       "1094                           1  \n",
       "\n",
       "[1095 rows x 2 columns]"
      ]
     },
     "execution_count": 25,
     "metadata": {},
     "output_type": "execute_result"
    }
   ],
   "source": [
    "alt_p.get_alt_product_count(hills_merged)"
   ]
  },
  {
   "cell_type": "code",
   "execution_count": null,
   "metadata": {},
   "outputs": [],
   "source": []
  },
  {
   "cell_type": "code",
   "execution_count": null,
   "metadata": {},
   "outputs": [],
   "source": []
  }
 ],
 "metadata": {
  "kernelspec": {
   "display_name": "Python 3",
   "language": "python",
   "name": "python3"
  },
  "language_info": {
   "codemirror_mode": {
    "name": "ipython",
    "version": 3
   },
   "file_extension": ".py",
   "mimetype": "text/x-python",
   "name": "python",
   "nbconvert_exporter": "python",
   "pygments_lexer": "ipython3",
   "version": "3.7.4"
  }
 },
 "nbformat": 4,
 "nbformat_minor": 4
}
